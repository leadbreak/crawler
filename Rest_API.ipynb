{
  "nbformat": 4,
  "nbformat_minor": 0,
  "metadata": {
    "colab": {
      "name": "Rest_API.ipynb",
      "provenance": [],
      "collapsed_sections": []
    },
    "kernelspec": {
      "name": "python3",
      "display_name": "Python 3"
    }
  },
  "cells": [
    {
      "cell_type": "markdown",
      "metadata": {
        "id": "hNLYHFhumWnL"
      },
      "source": [
        "## 참고 학습 영상 : 나도코딩 유튜브\r\n",
        "###(https://www.youtube.com/watch?v=yQ20jZwDjTE&list=WL&index=42&t=4765s)"
      ]
    },
    {
      "cell_type": "markdown",
      "metadata": {
        "id": "BYasF9v5g-_C"
      },
      "source": [
        "##STEP 01. requests 모듈을 사용해 응답이 올바로 되고 있는지 확인"
      ]
    },
    {
      "cell_type": "code",
      "metadata": {
        "colab": {
          "base_uri": "https://localhost:8080/"
        },
        "id": "2LylSL5MgGCh",
        "outputId": "5ddbe7d8-3062-4f5c-e101-aadfb39d70ed"
      },
      "source": [
        "\r\n",
        "import requests\r\n",
        "\r\n",
        "res = requests.get(\"http://naver.com\")\r\n",
        "\r\n",
        "print(\"응답코드 :\", res.status_code) #200이면 정상\r\n",
        "\r\n",
        "if res.status_code == requests.codes.ok : #정상인 코드인지 여부 판단\r\n",
        "  print(\"정상입니다.\")\r\n",
        "else :\r\n",
        "  print(\"문제가 생겼습니다. [에러코드\", res.status_code, \"]\")"
      ],
      "execution_count": 12,
      "outputs": [
        {
          "output_type": "stream",
          "text": [
            "응답코드 : 200\n",
            "정상입니다.\n"
          ],
          "name": "stdout"
        }
      ]
    },
    {
      "cell_type": "code",
      "metadata": {
        "colab": {
          "base_uri": "https://localhost:8080/"
        },
        "id": "h4qEJlMogRCQ",
        "outputId": "216ada1b-028f-44c2-b914-3bf22e22de10"
      },
      "source": [
        "\r\n",
        "import requests\r\n",
        "\r\n",
        "res = requests.get(\"http://naver.com\")\r\n",
        "\r\n",
        "print(\"응답코드 :\", res.status_code) #200이면 정상\r\n",
        "\r\n",
        "res.raise_for_status() #정상코드가 아니면 오류를 발생시키며 종료\r\n",
        "print(\"웹 스크래핑을 진행합니다.\")"
      ],
      "execution_count": 15,
      "outputs": [
        {
          "output_type": "stream",
          "text": [
            "응답코드 : 200\n",
            "웹 스크래핑을 진행합니다.\n"
          ],
          "name": "stdout"
        }
      ]
    },
    {
      "cell_type": "markdown",
      "metadata": {
        "id": "ilWCVCfXhHLe"
      },
      "source": [
        "##STEP 02. 데이터를 가져오고 이를 파일로 만들어 확인\r\n"
      ]
    },
    {
      "cell_type": "code",
      "metadata": {
        "colab": {
          "base_uri": "https://localhost:8080/"
        },
        "id": "sh9ZN6VqhMi1",
        "outputId": "459339c3-8cfb-4461-c7b6-821de8157a1e"
      },
      "source": [
        "import requests\r\n",
        "\r\n",
        "res = requests.get(\"http://google.com\")\r\n",
        "\r\n",
        "print(\"응답코드 :\", res.status_code) #200이면 정상\r\n",
        "\r\n",
        "res.raise_for_status() #정상코드가 아니면 오류를 발생시키며 종료\r\n",
        "\r\n",
        "#----------------------------------------------------------------------\r\n",
        "\r\n",
        "print(len(res.text))\r\n",
        "print(res.text)\r\n",
        "\r\n",
        "with open(\"mygoogle.html\", \"w\", encoding=\"utf-8-sig\") as f :\r\n",
        "  f.write(res.text)"
      ],
      "execution_count": 16,
      "outputs": [
        {
          "output_type": "stream",
          "text": [
            "응답코드 : 200\n",
            "12874\n",
            "<!doctype html><html itemscope=\"\" itemtype=\"http://schema.org/WebPage\" lang=\"en\"><head><meta content=\"Search the world's information, including webpages, images, videos and more. Google has many special features to help you find exactly what you're looking for.\" name=\"description\"><meta content=\"noodp\" name=\"robots\"><meta content=\"text/html; charset=UTF-8\" http-equiv=\"Content-Type\"><meta content=\"/images/branding/googleg/1x/googleg_standard_color_128dp.png\" itemprop=\"image\"><title>Google</title><script nonce=\"7/BHjiTvD+WDGL442b/KQQ==\">(function(){window.google={kEI:'as4cYOnCEoS7tAaqt5zgDQ',kEXPI:'0,1359409,954,756,4348,207,3204,10,1590,2316,383,246,5,1354,1300,3114,3,519,314,2342,2998,7,1117169,1233,1196541,509,328984,51224,16108,6063,13340,9287,9188,8384,4859,1361,9291,3028,4739,12530,311,4020,978,13228,2054,920,873,10622,1142,13386,234,4282,2778,919,2277,9,4388,1279,2212,239,291,149,1103,840,517,1466,57,156,4101,312,1135,1,3,2063,606,2023,2298,4175,93,328,1284,463,2480,5846,3227,1990,855,7,12354,5096,7877,4928,108,1483,1924,908,2,3555,2397,1504,5966,1,2842,432,3,346,1200,44,1,820,1,4624,148,5990,4050,1281,968,1686,4,1328,122,78,2304,1236,1145,4082,576,74,1717,266,2627,459,1555,4067,1035,4599,1426,374,337,1,1390,191,191,1714,1297,1753,2658,4242,519,912,564,1120,30,1302,2552,1957,17,1259,1042,3285,2214,2305,638,37,2062,2,1482,3177,320,2361,55,744,6046,559,28,11,731,665,2145,3664,1336,1212,479,142,369,2,1961,778,363,19,3119,6,908,3,163,3378,1,4950,399,231,437,490,492,1618,669,550,476,133,659,349,810,1,1325,4,1117,1,1186,665,245,38,454,217,263,3374,1940,147,471,1260,239,302,1,652,2,60,1014,179,940,862,263,298,355,163,164,358,74,3569,77,120,1350,224,2,338,218,3,116,714,5,581,246,688,10,1,7,1,470,222,1,3,37,310,59,32,138,1337,231,500,912,439,594,5698963,12,3858,35,62,8796626,1323,549,333,444,1,2,80,1,900,896,1,9,2,2551,1,748,141,59,736,563,1,4265,1,1,2,1331,3299,248,595,1,2608,155,17,3,10,15,7,4,15,13,3,15,56,11,21,11,23957296,2783347',kBL:'hOsj'};google.sn='webhp';google.kHL='en';})();(function(){\n",
            "google.lc=[];google.li=0;google.getEI=function(a){for(var b;a&&(!a.getAttribute||!(b=a.getAttribute(\"eid\")));)a=a.parentNode;return b||google.kEI};google.getLEI=function(a){for(var b=null;a&&(!a.getAttribute||!(b=a.getAttribute(\"leid\")));)a=a.parentNode;return b};google.ml=function(){return null};google.time=function(){return Date.now()};google.log=function(a,b,c,d,f){if(c=google.logUrl(a,b,c,d,f)){a=new Image;var e=google.lc,g=google.li;e[g]=a;a.onerror=a.onload=a.onabort=function(){delete e[g]};a.src=c;google.li=g+1}};google.logUrl=function(a,b,c,d,f){var e=\"\";c||-1!=b.search(\"&ei=\")||(e=\"&ei=\"+google.getEI(d),-1==b.search(\"&lei=\")&&(d=google.getLEI(d))&&(e+=\"&lei=\"+d));d=\"\";!c&&window._cshid&&-1==b.search(\"&cshid=\")&&\"slh\"!=a&&(d=\"&cshid=\"+window._cshid);c=c||\"/\"+(f||\"gen_204\")+\"?atyp=i&ct=\"+a+\"&cad=\"+b+e+\"&zx=\"+Date.now()+d;/^http:/i.test(c)&&\"https:\"==window.location.protocol&&(google.ml(Error(\"a\"),!1,{src:c,glmm:1}),c=\"\");return c};}).call(this);(function(){google.y={};google.x=function(a,b){if(a)var c=a.id;else{do c=Math.random();while(google.y[c])}google.y[c]=[a,b];return!1};google.lm=[];google.plm=function(a){google.lm.push.apply(google.lm,a)};google.lq=[];google.load=function(a,b,c){google.lq.push([[a],b,c])};google.loadAll=function(a,b){google.lq.push([a,b])};google.bx=!1;google.lx=function(){};}).call(this);google.f={};(function(){\n",
            "document.documentElement.addEventListener(\"submit\",function(b){var a;if(a=b.target){var c=a.getAttribute(\"data-submitfalse\");a=\"1\"==c||\"q\"==c&&!a.elements.q.value?!0:!1}else a=!1;a&&(b.preventDefault(),b.stopPropagation())},!0);document.documentElement.addEventListener(\"click\",function(b){var a;a:{for(a=b.target;a&&a!=document.documentElement;a=a.parentElement)if(\"A\"==a.tagName){a=\"1\"==a.getAttribute(\"data-nohref\");break a}a=!1}a&&b.preventDefault()},!0);}).call(this);\n",
            "var a=window.location,b=a.href.indexOf(\"#\");if(0<=b){var c=a.href.substring(b+1);/(^|&)q=/.test(c)&&-1==c.indexOf(\"#\")&&a.replace(\"/search?\"+c.replace(/(^|&)fp=[^&]*/g,\"\")+\"&cad=h\")};</script><style>#gbar,#guser{font-size:13px;padding-top:1px !important;}#gbar{height:22px}#guser{padding-bottom:7px !important;text-align:right}.gbh,.gbd{border-top:1px solid #c9d7f1;font-size:1px}.gbh{height:0;position:absolute;top:24px;width:100%}@media all{.gb1{height:22px;margin-right:.5em;vertical-align:top}#gbar{float:left}}a.gb1,a.gb4{text-decoration:underline !important}a.gb1,a.gb4{color:#00c !important}.gbi .gb4{color:#dd8e27 !important}.gbf .gb4{color:#900 !important}\n",
            "</style><style>body,td,a,p,.h{font-family:arial,sans-serif}body{margin:0;overflow-y:scroll}#gog{padding:3px 8px 0}td{line-height:.8em}.gac_m td{line-height:17px}form{margin-bottom:20px}.h{color:#1558d6}em{font-weight:bold;font-style:normal}.lst{height:25px;width:496px}.gsfi,.lst{font:18px arial,sans-serif}.gsfs{font:17px arial,sans-serif}.ds{display:inline-box;display:inline-block;margin:3px 0 4px;margin-left:4px}input{font-family:inherit}body{background:#fff;color:#000}a{color:#4b11a8;text-decoration:none}a:hover,a:active{text-decoration:underline}.fl a{color:#1558d6}a:visited{color:#4b11a8}.sblc{padding-top:5px}.sblc a{display:block;margin:2px 0;margin-left:13px;font-size:11px}.lsbb{background:#f8f9fa;border:solid 1px;border-color:#dadce0 #70757a #70757a #dadce0;height:30px}.lsbb{display:block}#WqQANb a{display:inline-block;margin:0 12px}.lsb{background:url(/images/nav_logo229.png) 0 -261px repeat-x;border:none;color:#000;cursor:pointer;height:30px;margin:0;outline:0;font:15px arial,sans-serif;vertical-align:top}.lsb:active{background:#dadce0}.lst:focus{outline:none}</style><script nonce=\"7/BHjiTvD+WDGL442b/KQQ==\"></script></head><body bgcolor=\"#fff\"><script nonce=\"7/BHjiTvD+WDGL442b/KQQ==\">(function(){var src='/images/nav_logo229.png';var iesg=false;document.body.onload = function(){window.n && window.n();if (document.images){new Image().src=src;}\n",
            "if (!iesg){document.f&&document.f.q.focus();document.gbqf&&document.gbqf.q.focus();}\n",
            "}\n",
            "})();</script><div id=\"mngb\"><div id=gbar><nobr><b class=gb1>Search</b> <a class=gb1 href=\"http://www.google.com/imghp?hl=en&tab=wi\">Images</a> <a class=gb1 href=\"http://maps.google.com/maps?hl=en&tab=wl\">Maps</a> <a class=gb1 href=\"https://play.google.com/?hl=en&tab=w8\">Play</a> <a class=gb1 href=\"http://www.youtube.com/?gl=US&tab=w1\">YouTube</a> <a class=gb1 href=\"https://news.google.com/?tab=wn\">News</a> <a class=gb1 href=\"https://mail.google.com/mail/?tab=wm\">Gmail</a> <a class=gb1 href=\"https://drive.google.com/?tab=wo\">Drive</a> <a class=gb1 style=\"text-decoration:none\" href=\"https://www.google.com/intl/en/about/products?tab=wh\"><u>More</u> &raquo;</a></nobr></div><div id=guser width=100%><nobr><span id=gbn class=gbi></span><span id=gbf class=gbf></span><span id=gbe></span><a href=\"http://www.google.com/history/optout?hl=en\" class=gb4>Web History</a> | <a  href=\"/preferences?hl=en\" class=gb4>Settings</a> | <a target=_top id=gb_70 href=\"https://accounts.google.com/ServiceLogin?hl=en&passive=true&continue=http://www.google.com/&ec=GAZAAQ\" class=gb4>Sign in</a></nobr></div><div class=gbh style=left:0></div><div class=gbh style=right:0></div></div><center><br clear=\"all\" id=\"lgpd\"><div id=\"lga\"><img alt=\"Google\" height=\"92\" src=\"/images/branding/googlelogo/1x/googlelogo_white_background_color_272x92dp.png\" style=\"padding:28px 0 14px\" width=\"272\" id=\"hplogo\"><br><br></div><form action=\"/search\" name=\"f\"><table cellpadding=\"0\" cellspacing=\"0\"><tr valign=\"top\"><td width=\"25%\">&nbsp;</td><td align=\"center\" nowrap=\"\"><input name=\"ie\" value=\"ISO-8859-1\" type=\"hidden\"><input value=\"en\" name=\"hl\" type=\"hidden\"><input name=\"source\" type=\"hidden\" value=\"hp\"><input name=\"biw\" type=\"hidden\"><input name=\"bih\" type=\"hidden\"><div class=\"ds\" style=\"height:32px;margin:4px 0\"><input class=\"lst\" style=\"margin:0;padding:5px 8px 0 6px;vertical-align:top;color:#000\" autocomplete=\"off\" value=\"\" title=\"Google Search\" maxlength=\"2048\" name=\"q\" size=\"57\"></div><br style=\"line-height:0\"><span class=\"ds\"><span class=\"lsbb\"><input class=\"lsb\" value=\"Google Search\" name=\"btnG\" type=\"submit\"></span></span><span class=\"ds\"><span class=\"lsbb\"><input class=\"lsb\" id=\"tsuid1\" value=\"I'm Feeling Lucky\" name=\"btnI\" type=\"submit\"><script nonce=\"7/BHjiTvD+WDGL442b/KQQ==\">(function(){var id='tsuid1';document.getElementById(id).onclick = function(){if (this.form.q.value){this.checked = 1;if (this.form.iflsig)this.form.iflsig.disabled = false;}\n",
            "else top.location='/doodles/';};})();</script><input value=\"AINFCbYAAAAAYBzcek6dvsQM8tyOBG38jCf1rX00uH_Q\" name=\"iflsig\" type=\"hidden\"></span></span></td><td class=\"fl sblc\" align=\"left\" nowrap=\"\" width=\"25%\"><a href=\"/advanced_search?hl=en&amp;authuser=0\">Advanced search</a></td></tr></table><input id=\"gbv\" name=\"gbv\" type=\"hidden\" value=\"1\"><script nonce=\"7/BHjiTvD+WDGL442b/KQQ==\">(function(){var a,b=\"1\";if(document&&document.getElementById)if(\"undefined\"!=typeof XMLHttpRequest)b=\"2\";else if(\"undefined\"!=typeof ActiveXObject){var c,d,e=[\"MSXML2.XMLHTTP.6.0\",\"MSXML2.XMLHTTP.3.0\",\"MSXML2.XMLHTTP\",\"Microsoft.XMLHTTP\"];for(c=0;d=e[c++];)try{new ActiveXObject(d),b=\"2\"}catch(h){}}a=b;if(\"2\"==a&&-1==location.search.indexOf(\"&gbv=2\")){var f=google.gbvu,g=document.getElementById(\"gbv\");g&&(g.value=a);f&&window.setTimeout(function(){location.href=f},0)};}).call(this);</script></form><div id=\"gac_scont\"></div><div style=\"font-size:83%;min-height:3.5em\"><br></div><span id=\"footer\"><div style=\"font-size:10pt\"><div style=\"margin:19px auto;text-align:center\" id=\"WqQANb\"><a href=\"/intl/en/ads/\">Advertising Programs</a><a href=\"/services/\">Business Solutions</a><a href=\"/intl/en/about.html\">About Google</a></div></div><p style=\"font-size:8pt;color:#70757a\">&copy; 2021 - <a href=\"/intl/en/policies/privacy/\">Privacy</a> - <a href=\"/intl/en/policies/terms/\">Terms</a></p></span></center><script nonce=\"7/BHjiTvD+WDGL442b/KQQ==\">(function(){window.google.cdo={height:0,width:0};(function(){var a=window.innerWidth,b=window.innerHeight;if(!a||!b){var c=window.document,d=\"CSS1Compat\"==c.compatMode?c.documentElement:c.body;a=d.clientWidth;b=d.clientHeight}a&&b&&(a!=google.cdo.width||b!=google.cdo.height)&&google.log(\"\",\"\",\"/client_204?&atyp=i&biw=\"+a+\"&bih=\"+b+\"&ei=\"+google.kEI);}).call(this);})();(function(){var u='/xjs/_/js/k\\x3dxjs.hp.en_US.szpmqNDPCSM.O/m\\x3dsb_he,d/am\\x3dAHiCOA/d\\x3d1/rs\\x3dACT90oElj_ka30xkleU-LJHVR6mClK1GLA';\n",
            "var d=this||self,e=/^[\\w+/_-]+[=]{0,2}$/,f=null,g=function(a){return(a=a.querySelector&&a.querySelector(\"script[nonce]\"))&&(a=a.nonce||a.getAttribute(\"nonce\"))&&e.test(a)?a:\"\"},h=function(a){return a};var l;var n=function(a,b){this.g=b===m?a:\"\"};n.prototype.toString=function(){return this.g+\"\"};var m={};function p(){var a=u;google.lx=function(){q(a);google.lx=function(){}};google.bx||google.lx()}\n",
            "function q(a){var b=document;var c=\"SCRIPT\";\"application/xhtml+xml\"===b.contentType&&(c=c.toLowerCase());c=b.createElement(c);if(void 0===l){b=null;var k=d.trustedTypes;if(k&&k.createPolicy){try{b=k.createPolicy(\"goog#html\",{createHTML:h,createScript:h,createScriptURL:h})}catch(r){d.console&&d.console.error(r.message)}l=b}else l=b}a=(b=l)?b.createScriptURL(a):a;a=new n(a,m);c.src=a instanceof n&&a.constructor===n?a.g:\"type_error:TrustedResourceUrl\";(a=c.ownerDocument&&c.ownerDocument.defaultView)&&\n",
            "a!=d?a=g(a.document):(null===f&&(f=g(d.document)),a=f);a&&c.setAttribute(\"nonce\",a);google.timers&&google.timers.load&&google.tick&&google.tick(\"load\",\"xjsls\");document.body.appendChild(c)};setTimeout(function(){p()},0);})();(function(){window.google.xjsu='/xjs/_/js/k\\x3dxjs.hp.en_US.szpmqNDPCSM.O/m\\x3dsb_he,d/am\\x3dAHiCOA/d\\x3d1/rs\\x3dACT90oElj_ka30xkleU-LJHVR6mClK1GLA';})();function _DumpException(e){throw e;}\n",
            "function _F_installCss(c){}\n",
            "(function(){google.jl={dw:false,em:[],emw:false,lls:'default',pdt:0,snet:true,uwp:true};})();(function(){var pmc='{\\x22d\\x22:{},\\x22sb_he\\x22:{\\x22agen\\x22:true,\\x22cgen\\x22:true,\\x22client\\x22:\\x22heirloom-hp\\x22,\\x22dh\\x22:true,\\x22dhqt\\x22:true,\\x22ds\\x22:\\x22\\x22,\\x22ffql\\x22:\\x22en\\x22,\\x22fl\\x22:true,\\x22host\\x22:\\x22google.com\\x22,\\x22isbh\\x22:28,\\x22jsonp\\x22:true,\\x22msgs\\x22:{\\x22cibl\\x22:\\x22Clear Search\\x22,\\x22dym\\x22:\\x22Did you mean:\\x22,\\x22lcky\\x22:\\x22I\\\\u0026#39;m Feeling Lucky\\x22,\\x22lml\\x22:\\x22Learn more\\x22,\\x22oskt\\x22:\\x22Input tools\\x22,\\x22psrc\\x22:\\x22This search was removed from your \\\\u003Ca href\\x3d\\\\\\x22/history\\\\\\x22\\\\u003EWeb History\\\\u003C/a\\\\u003E\\x22,\\x22psrl\\x22:\\x22Remove\\x22,\\x22sbit\\x22:\\x22Search by image\\x22,\\x22srch\\x22:\\x22Google Search\\x22},\\x22nrft\\x22:false,\\x22ovr\\x22:{},\\x22pq\\x22:\\x22\\x22,\\x22refpd\\x22:true,\\x22rfs\\x22:[],\\x22sbas\\x22:\\x220 3px 8px 0 rgba(0,0,0,0.2),0 0 0 1px rgba(0,0,0,0.08)\\x22,\\x22sbpl\\x22:16,\\x22sbpr\\x22:16,\\x22scd\\x22:10,\\x22stok\\x22:\\x22hIobvOvuzRI9B6e1nmn2xSARShQ\\x22,\\x22uhde\\x22:false}}';google.pmc=JSON.parse(pmc);})();</script>        </body></html>\n"
          ],
          "name": "stdout"
        }
      ]
    },
    {
      "cell_type": "markdown",
      "metadata": {
        "id": "BrkX4ScZh8FE"
      },
      "source": [
        "##STEP 03. 만약 응답이 허락되지 않는 사이트의 경우, header 정보를 전송함으로써 크롤링 차단 같은 것을 우회할 수도 있음\r\n"
      ]
    },
    {
      "cell_type": "code",
      "metadata": {
        "id": "3DUo3CcDiJ5N"
      },
      "source": [
        "# https://www.whatismybrowser.com/detect/what-is-my-user-agent 에서 자신의 user-agent 확인\r\n",
        "\r\n",
        "import requests\r\n",
        "\r\n",
        "url = \"https://thebeworld.tistory.com/\"\r\n",
        "headers = {\"User-Agent\" : \"Mozilla/5.0 (Windows NT 10.0; Win64; x64) AppleWebKit/537.36 (KHTML, like Gecko) Chrome/88.0.4324.146 Safari/537.36\"}\r\n",
        "res = requests.get(url, headers=headers)\r\n",
        "\r\n",
        "print(\"응답코드 :\", res.status_code) #200이면 정상\r\n",
        "\r\n",
        "res.raise_for_status() #정상코드가 아니면 오류를 발생시키며 종료\r\n",
        "\r\n",
        "#----------------------------------------------------------------------\r\n",
        "\r\n",
        "print(len(res.text))\r\n",
        "print(res.text)\r\n",
        "\r\n",
        "with open(\"tistory.html\", \"w\", encoding=\"utf-8-sig\") as f :\r\n",
        "  f.write(res.text)"
      ],
      "execution_count": null,
      "outputs": []
    },
    {
      "cell_type": "markdown",
      "metadata": {
        "id": "FbqMP1A6jRUC"
      },
      "source": [
        "##STEP 04. BeautifulSoup 모듈을 이용해 제대로 된 스크래핑"
      ]
    },
    {
      "cell_type": "code",
      "metadata": {
        "colab": {
          "base_uri": "https://localhost:8080/"
        },
        "id": "4PCJDlcbjYNy",
        "outputId": "dd06264a-59fa-4587-e7a0-e5d3423c60ba"
      },
      "source": [
        "import requests\r\n",
        "from bs4 import BeautifulSoup as BS\r\n",
        "\r\n",
        "url = \"https://comic.naver.com/webtoon/weekday.nhn\"\r\n",
        "res = requests.get(url)\r\n",
        "res.raise_for_status()\r\n",
        "\r\n",
        "soup = BS(res.text, \"lxml\") # 위에서 받아온 데이터를 lxml 파서를 통해 BeautifulSoup 객체로 만든다.\r\n",
        "print(soup.title) #타이틀 정보 받아오기\r\n",
        "print(soup.a) # a element 정보 가져오기\r\n",
        "print(soup.a.attrs) # a element의 속성 정보 가져오기\r\n",
        "print(soup.a[\"href\"]) # a element의 href 속성 값 정보 가져오기"
      ],
      "execution_count": 24,
      "outputs": [
        {
          "output_type": "stream",
          "text": [
            "<title>네이버 만화 &gt; 요일별  웹툰 &gt; 전체웹툰</title>\n",
            "<a href=\"#menu\" onclick=\"document.getElementById('menu').tabIndex=-1;document.getElementById('menu').focus();return false;\"><span>메인 메뉴로 바로가기</span></a>\n",
            "{'href': '#menu', 'onclick': \"document.getElementById('menu').tabIndex=-1;document.getElementById('menu').focus();return false;\"}\n",
            "#menu\n"
          ],
          "name": "stdout"
        }
      ]
    },
    {
      "cell_type": "code",
      "metadata": {
        "colab": {
          "base_uri": "https://localhost:8080/"
        },
        "id": "RzHsfjYdk_s1",
        "outputId": "e84c94ed-1e9c-473b-99f1-a70c880d9779"
      },
      "source": [
        "print(soup.find(\"a\", attrs = {\"class\" : \"Nbtn_upload\"})) # find 함수를 사용해 해당 조건 값에 해당하는 첫 번째 값 가져오기"
      ],
      "execution_count": 26,
      "outputs": [
        {
          "output_type": "stream",
          "text": [
            "<a class=\"Nbtn_upload\" href=\"/mypage/myActivity.nhn\" onclick=\"nclk_v2(event,'olk.upload');\">웹툰 올리기</a>\n"
          ],
          "name": "stdout"
        }
      ]
    },
    {
      "cell_type": "code",
      "metadata": {
        "colab": {
          "base_uri": "https://localhost:8080/"
        },
        "id": "NZF2yEtelafw",
        "outputId": "e5386961-d3cb-4672-a2a8-5803947b1b46"
      },
      "source": [
        "rank1 = soup.find(\"li\", \"rank01\")\r\n",
        "rank1"
      ],
      "execution_count": 29,
      "outputs": [
        {
          "output_type": "execute_result",
          "data": {
            "text/plain": [
              "<li class=\"rank01\">\n",
              "<a href=\"/webtoon/detail.nhn?titleId=641253&amp;no=325\" onclick=\"nclk_v2(event,'rnk*p.cont','641253','1')\" title=\"외모지상주의-325화 클럽 [01]\">외모지상주의-325화 클럽 [01]</a>\n",
              "<span class=\"rankBox\">\n",
              "<img alt=\"변동없음\" height=\"10\" src=\"https://ssl.pstatic.net/static/comic/images/migration/common/arrow_no.gif\" title=\"변동없음\" width=\"7\"/> 0\n",
              "\t\t\t\t\t\t\n",
              "\t\t\t\t\t\n",
              "\t\t\t\t</span>\n",
              "</li>"
            ]
          },
          "metadata": {
            "tags": []
          },
          "execution_count": 29
        }
      ]
    },
    {
      "cell_type": "code",
      "metadata": {
        "colab": {
          "base_uri": "https://localhost:8080/"
        },
        "id": "lNyKl8wXlnm1",
        "outputId": "040df4d4-0bd2-4fb1-d656-bf37262ade4a"
      },
      "source": [
        "print(rank1.a.get_text())"
      ],
      "execution_count": 30,
      "outputs": [
        {
          "output_type": "stream",
          "text": [
            "외모지상주의-325화 클럽 [01]\n"
          ],
          "name": "stdout"
        }
      ]
    },
    {
      "cell_type": "code",
      "metadata": {
        "colab": {
          "base_uri": "https://localhost:8080/",
          "height": 35
        },
        "id": "4P9iUjUflo7t",
        "outputId": "b5d0fbd4-9cac-4176-82c2-ba395e03363e"
      },
      "source": [
        "rank1.next_sibling # 다음 값으로 넘어가기 - 그 다음 값이 보이지는 않으나 비어있을 경우(줄바꿈)"
      ],
      "execution_count": 31,
      "outputs": [
        {
          "output_type": "execute_result",
          "data": {
            "application/vnd.google.colaboratory.intrinsic+json": {
              "type": "string"
            },
            "text/plain": [
              "'\\n'"
            ]
          },
          "metadata": {
            "tags": []
          },
          "execution_count": 31
        }
      ]
    },
    {
      "cell_type": "code",
      "metadata": {
        "colab": {
          "base_uri": "https://localhost:8080/"
        },
        "id": "k96DRGVclssV",
        "outputId": "7ccdaa44-fa80-40a3-903d-4c27cca23053"
      },
      "source": [
        "rank2 = rank1.next_sibling.next_sibling # 다음 값으로 넘어가기 - 보이지 않는 값을 넘어가기\r\n",
        "rank2"
      ],
      "execution_count": 33,
      "outputs": [
        {
          "output_type": "execute_result",
          "data": {
            "text/plain": [
              "<li class=\"rank02\">\n",
              "<a href=\"/webtoon/detail.nhn?titleId=735661&amp;no=67\" onclick=\"nclk_v2(event,'rnk*p.cont','735661','2')\" title=\"재혼 황후-67화\">재혼 황후-67화</a>\n",
              "<span class=\"rankBox\">\n",
              "<img alt=\"변동없음\" height=\"10\" src=\"https://ssl.pstatic.net/static/comic/images/migration/common/arrow_no.gif\" title=\"변동없음\" width=\"7\"/> 0\n",
              "\t\t\t\t\t\t\n",
              "\t\t\t\t\t\n",
              "\t\t\t\t</span>\n",
              "</li>"
            ]
          },
          "metadata": {
            "tags": []
          },
          "execution_count": 33
        }
      ]
    },
    {
      "cell_type": "code",
      "metadata": {
        "colab": {
          "base_uri": "https://localhost:8080/"
        },
        "id": "AHejfsZVl57G",
        "outputId": "b2c06e6a-d74c-4ea6-9634-c2a2cdb16376"
      },
      "source": [
        "rank3 = rank2.next_sibling.next_sibling\r\n",
        "rank3"
      ],
      "execution_count": 36,
      "outputs": [
        {
          "output_type": "execute_result",
          "data": {
            "text/plain": [
              "<li class=\"rank03\">\n",
              "<a href=\"/webtoon/detail.nhn?titleId=318995&amp;no=503\" onclick=\"nclk_v2(event,'rnk*p.cont','318995','3')\" title=\"갓 오브 하이스쿨-499화\">갓 오브 하이스쿨-499화</a>\n",
              "<span class=\"rankBox\">\n",
              "<img alt=\"변동없음\" height=\"10\" src=\"https://ssl.pstatic.net/static/comic/images/migration/common/arrow_no.gif\" title=\"변동없음\" width=\"7\"/> 0\n",
              "\t\t\t\t\t\t\n",
              "\t\t\t\t\t\n",
              "\t\t\t\t</span>\n",
              "</li>"
            ]
          },
          "metadata": {
            "tags": []
          },
          "execution_count": 36
        }
      ]
    },
    {
      "cell_type": "code",
      "metadata": {
        "colab": {
          "base_uri": "https://localhost:8080/"
        },
        "id": "IjWzc2x7l3MP",
        "outputId": "7616ac0b-9509-448b-9e81-d39c1346783c"
      },
      "source": [
        "rank2 = rank3.previous_sibling.previous_sibling # 전 값으로 돌아오기\r\n",
        "rank2"
      ],
      "execution_count": 38,
      "outputs": [
        {
          "output_type": "execute_result",
          "data": {
            "text/plain": [
              "<li class=\"rank02\">\n",
              "<a href=\"/webtoon/detail.nhn?titleId=735661&amp;no=67\" onclick=\"nclk_v2(event,'rnk*p.cont','735661','2')\" title=\"재혼 황후-67화\">재혼 황후-67화</a>\n",
              "<span class=\"rankBox\">\n",
              "<img alt=\"변동없음\" height=\"10\" src=\"https://ssl.pstatic.net/static/comic/images/migration/common/arrow_no.gif\" title=\"변동없음\" width=\"7\"/> 0\n",
              "\t\t\t\t\t\t\n",
              "\t\t\t\t\t\n",
              "\t\t\t\t</span>\n",
              "</li>"
            ]
          },
          "metadata": {
            "tags": []
          },
          "execution_count": 38
        }
      ]
    },
    {
      "cell_type": "code",
      "metadata": {
        "colab": {
          "base_uri": "https://localhost:8080/"
        },
        "id": "zKx8-N-tmJ5u",
        "outputId": "081eb2ef-4058-4cdd-d188-c5e8c0721617"
      },
      "source": [
        "rank1.parent # 부모 태그 찍기"
      ],
      "execution_count": 39,
      "outputs": [
        {
          "output_type": "execute_result",
          "data": {
            "text/plain": [
              "<ol class=\"asideBoxRank\" id=\"realTimeRankFavorite\">\n",
              "<li class=\"rank01\">\n",
              "<a href=\"/webtoon/detail.nhn?titleId=641253&amp;no=325\" onclick=\"nclk_v2(event,'rnk*p.cont','641253','1')\" title=\"외모지상주의-325화 클럽 [01]\">외모지상주의-325화 클럽 [01]</a>\n",
              "<span class=\"rankBox\">\n",
              "<img alt=\"변동없음\" height=\"10\" src=\"https://ssl.pstatic.net/static/comic/images/migration/common/arrow_no.gif\" title=\"변동없음\" width=\"7\"/> 0\n",
              "\t\t\t\t\t\t\n",
              "\t\t\t\t\t\n",
              "\t\t\t\t</span>\n",
              "</li>\n",
              "<li class=\"rank02\">\n",
              "<a href=\"/webtoon/detail.nhn?titleId=735661&amp;no=67\" onclick=\"nclk_v2(event,'rnk*p.cont','735661','2')\" title=\"재혼 황후-67화\">재혼 황후-67화</a>\n",
              "<span class=\"rankBox\">\n",
              "<img alt=\"변동없음\" height=\"10\" src=\"https://ssl.pstatic.net/static/comic/images/migration/common/arrow_no.gif\" title=\"변동없음\" width=\"7\"/> 0\n",
              "\t\t\t\t\t\t\n",
              "\t\t\t\t\t\n",
              "\t\t\t\t</span>\n",
              "</li>\n",
              "<li class=\"rank03\">\n",
              "<a href=\"/webtoon/detail.nhn?titleId=318995&amp;no=503\" onclick=\"nclk_v2(event,'rnk*p.cont','318995','3')\" title=\"갓 오브 하이스쿨-499화\">갓 오브 하이스쿨-499화</a>\n",
              "<span class=\"rankBox\">\n",
              "<img alt=\"변동없음\" height=\"10\" src=\"https://ssl.pstatic.net/static/comic/images/migration/common/arrow_no.gif\" title=\"변동없음\" width=\"7\"/> 0\n",
              "\t\t\t\t\t\t\n",
              "\t\t\t\t\t\n",
              "\t\t\t\t</span>\n",
              "</li>\n",
              "<li class=\"rank04\">\n",
              "<a href=\"/webtoon/detail.nhn?titleId=753478&amp;no=22\" onclick=\"nclk_v2(event,'rnk*p.cont','753478','4')\" title=\"데드퀸-22화\">데드퀸-22화</a>\n",
              "<span class=\"rankBox\">\n",
              "<img alt=\"변동없음\" height=\"10\" src=\"https://ssl.pstatic.net/static/comic/images/migration/common/arrow_no.gif\" title=\"변동없음\" width=\"7\"/> 0\n",
              "\t\t\t\t\t\t\n",
              "\t\t\t\t\t\n",
              "\t\t\t\t</span>\n",
              "</li>\n",
              "<li class=\"rank05\">\n",
              "<a href=\"/webtoon/detail.nhn?titleId=712362&amp;no=109\" onclick=\"nclk_v2(event,'rnk*p.cont','712362','5')\" title=\"개를 낳았다-시즌2 38화\">개를 낳았다-시즌2 38화</a>\n",
              "<span class=\"rankBox\">\n",
              "<img alt=\"변동없음\" height=\"10\" src=\"https://ssl.pstatic.net/static/comic/images/migration/common/arrow_no.gif\" title=\"변동없음\" width=\"7\"/> 0\n",
              "\t\t\t\t\t\t\n",
              "\t\t\t\t\t\n",
              "\t\t\t\t</span>\n",
              "</li>\n",
              "<li class=\"rank06\">\n",
              "<a href=\"/webtoon/detail.nhn?titleId=725586&amp;no=100\" onclick=\"nclk_v2(event,'rnk*p.cont','725586','6')\" title=\"1초-99화 외전 : 코로나 바이러스 (1) \">1초-99화 외전 : 코로나 바이러스 (1)</a>\n",
              "<span class=\"rankBox\">\n",
              "<img alt=\"변동없음\" height=\"10\" src=\"https://ssl.pstatic.net/static/comic/images/migration/common/arrow_no.gif\" title=\"변동없음\" width=\"7\"/> 0\n",
              "\t\t\t\t\t\t\n",
              "\t\t\t\t\t\n",
              "\t\t\t\t</span>\n",
              "</li>\n",
              "<li class=\"rank07\">\n",
              "<a href=\"/webtoon/detail.nhn?titleId=759457&amp;no=12\" onclick=\"nclk_v2(event,'rnk*p.cont','759457','7')\" title=\"여성전용헬스장 진달래짐-12화: 들어올려라, 중량 추가!\">여성전용헬스장 진달래짐-12화: 들어올려라, 중량 추가!</a>\n",
              "<span class=\"rankBox\">\n",
              "<img alt=\"변동없음\" height=\"10\" src=\"https://ssl.pstatic.net/static/comic/images/migration/common/arrow_no.gif\" title=\"변동없음\" width=\"7\"/> 0\n",
              "\t\t\t\t\t\t\n",
              "\t\t\t\t\t\n",
              "\t\t\t\t</span>\n",
              "</li>\n",
              "<li class=\"rank08\">\n",
              "<a href=\"/webtoon/detail.nhn?titleId=700844&amp;no=167\" onclick=\"nclk_v2(event,'rnk*p.cont','700844','8')\" title=\"걸어서 30분-167화 그림 모델\">걸어서 30분-167화 그림 모델</a>\n",
              "<span class=\"rankBox\">\n",
              "<img alt=\"변동없음\" height=\"10\" src=\"https://ssl.pstatic.net/static/comic/images/migration/common/arrow_no.gif\" title=\"변동없음\" width=\"7\"/> 0\n",
              "\t\t\t\t\t\t\n",
              "\t\t\t\t\t\n",
              "\t\t\t\t</span>\n",
              "</li>\n",
              "<li class=\"rank09\">\n",
              "<a href=\"/webtoon/detail.nhn?titleId=761722&amp;no=7\" onclick=\"nclk_v2(event,'rnk*p.cont','761722','9')\" title=\"세기말 풋사과 보습학원-7화\">세기말 풋사과 보습학원-7화</a>\n",
              "<span class=\"rankBox\">\n",
              "<img alt=\"변동없음\" height=\"10\" src=\"https://ssl.pstatic.net/static/comic/images/migration/common/arrow_no.gif\" title=\"변동없음\" width=\"7\"/> 0\n",
              "\t\t\t\t\t\t\n",
              "\t\t\t\t\t\n",
              "\t\t\t\t</span>\n",
              "</li>\n",
              "<li class=\"rank10\">\n",
              "<a href=\"/webtoon/detail.nhn?titleId=748534&amp;no=33\" onclick=\"nclk_v2(event,'rnk*p.cont','748534','10')\" title=\"구남친이 내게 반했다-33화\">구남친이 내게 반했다-33화</a>\n",
              "<span class=\"rankBox\">\n",
              "<img alt=\"변동없음\" height=\"10\" src=\"https://ssl.pstatic.net/static/comic/images/migration/common/arrow_no.gif\" title=\"변동없음\" width=\"7\"/> 0\n",
              "\t\t\t\t\t\t\n",
              "\t\t\t\t\t\n",
              "\t\t\t\t</span>\n",
              "</li>\n",
              "</ol>"
            ]
          },
          "metadata": {
            "tags": []
          },
          "execution_count": 39
        }
      ]
    },
    {
      "cell_type": "code",
      "metadata": {
        "colab": {
          "base_uri": "https://localhost:8080/",
          "height": 35
        },
        "id": "P5xEbIOCmHfu",
        "outputId": "7bee309f-3bab-4215-8b71-02d988198cfe"
      },
      "source": [
        "rank2 = rank1.find_next_sibling(\"li\") # 여러번의 next_sibling 없이 공백에 없는 값을 이용하여 찾기\r\n",
        "rank2.a.get_text()"
      ],
      "execution_count": 40,
      "outputs": [
        {
          "output_type": "execute_result",
          "data": {
            "application/vnd.google.colaboratory.intrinsic+json": {
              "type": "string"
            },
            "text/plain": [
              "'재혼 황후-67화'"
            ]
          },
          "metadata": {
            "tags": []
          },
          "execution_count": 40
        }
      ]
    },
    {
      "cell_type": "code",
      "metadata": {
        "colab": {
          "base_uri": "https://localhost:8080/",
          "height": 35
        },
        "id": "XC_IvwOKmmpu",
        "outputId": "e09610ed-1b14-4f74-f7da-5cff0e39a768"
      },
      "source": [
        "rank3 = rank2.find_next_sibling(\"li\")\r\n",
        "rank3.a.get_text()"
      ],
      "execution_count": 42,
      "outputs": [
        {
          "output_type": "execute_result",
          "data": {
            "application/vnd.google.colaboratory.intrinsic+json": {
              "type": "string"
            },
            "text/plain": [
              "'갓 오브 하이스쿨-499화'"
            ]
          },
          "metadata": {
            "tags": []
          },
          "execution_count": 42
        }
      ]
    },
    {
      "cell_type": "code",
      "metadata": {
        "colab": {
          "base_uri": "https://localhost:8080/",
          "height": 35
        },
        "id": "w5wQ4H8OmuFW",
        "outputId": "207f7e0c-8a24-45c3-b1b4-83fa76aabdae"
      },
      "source": [
        "rank2 = rank3.find_previous_sibling(\"li\") # previous도 동일\r\n",
        "rank2.a.get_text()"
      ],
      "execution_count": 43,
      "outputs": [
        {
          "output_type": "execute_result",
          "data": {
            "application/vnd.google.colaboratory.intrinsic+json": {
              "type": "string"
            },
            "text/plain": [
              "'재혼 황후-67화'"
            ]
          },
          "metadata": {
            "tags": []
          },
          "execution_count": 43
        }
      ]
    },
    {
      "cell_type": "code",
      "metadata": {
        "colab": {
          "base_uri": "https://localhost:8080/"
        },
        "id": "zEOZ3HJ7m59S",
        "outputId": "c6742827-5f17-44d6-a1a3-fdd93a36e564"
      },
      "source": [
        "rank1.find_next_siblings(\"li\") # rank1 기준으로 그 다음 형제들을 모두 출력"
      ],
      "execution_count": 49,
      "outputs": [
        {
          "output_type": "execute_result",
          "data": {
            "text/plain": [
              "[<li class=\"rank02\">\n",
              " <a href=\"/webtoon/detail.nhn?titleId=735661&amp;no=67\" onclick=\"nclk_v2(event,'rnk*p.cont','735661','2')\" title=\"재혼 황후-67화\">재혼 황후-67화</a>\n",
              " <span class=\"rankBox\">\n",
              " <img alt=\"변동없음\" height=\"10\" src=\"https://ssl.pstatic.net/static/comic/images/migration/common/arrow_no.gif\" title=\"변동없음\" width=\"7\"/> 0\n",
              " \t\t\t\t\t\t\n",
              " \t\t\t\t\t\n",
              " \t\t\t\t</span>\n",
              " </li>, <li class=\"rank03\">\n",
              " <a href=\"/webtoon/detail.nhn?titleId=318995&amp;no=503\" onclick=\"nclk_v2(event,'rnk*p.cont','318995','3')\" title=\"갓 오브 하이스쿨-499화\">갓 오브 하이스쿨-499화</a>\n",
              " <span class=\"rankBox\">\n",
              " <img alt=\"변동없음\" height=\"10\" src=\"https://ssl.pstatic.net/static/comic/images/migration/common/arrow_no.gif\" title=\"변동없음\" width=\"7\"/> 0\n",
              " \t\t\t\t\t\t\n",
              " \t\t\t\t\t\n",
              " \t\t\t\t</span>\n",
              " </li>, <li class=\"rank04\">\n",
              " <a href=\"/webtoon/detail.nhn?titleId=753478&amp;no=22\" onclick=\"nclk_v2(event,'rnk*p.cont','753478','4')\" title=\"데드퀸-22화\">데드퀸-22화</a>\n",
              " <span class=\"rankBox\">\n",
              " <img alt=\"변동없음\" height=\"10\" src=\"https://ssl.pstatic.net/static/comic/images/migration/common/arrow_no.gif\" title=\"변동없음\" width=\"7\"/> 0\n",
              " \t\t\t\t\t\t\n",
              " \t\t\t\t\t\n",
              " \t\t\t\t</span>\n",
              " </li>, <li class=\"rank05\">\n",
              " <a href=\"/webtoon/detail.nhn?titleId=712362&amp;no=109\" onclick=\"nclk_v2(event,'rnk*p.cont','712362','5')\" title=\"개를 낳았다-시즌2 38화\">개를 낳았다-시즌2 38화</a>\n",
              " <span class=\"rankBox\">\n",
              " <img alt=\"변동없음\" height=\"10\" src=\"https://ssl.pstatic.net/static/comic/images/migration/common/arrow_no.gif\" title=\"변동없음\" width=\"7\"/> 0\n",
              " \t\t\t\t\t\t\n",
              " \t\t\t\t\t\n",
              " \t\t\t\t</span>\n",
              " </li>, <li class=\"rank06\">\n",
              " <a href=\"/webtoon/detail.nhn?titleId=725586&amp;no=100\" onclick=\"nclk_v2(event,'rnk*p.cont','725586','6')\" title=\"1초-99화 외전 : 코로나 바이러스 (1) \">1초-99화 외전 : 코로나 바이러스 (1)</a>\n",
              " <span class=\"rankBox\">\n",
              " <img alt=\"변동없음\" height=\"10\" src=\"https://ssl.pstatic.net/static/comic/images/migration/common/arrow_no.gif\" title=\"변동없음\" width=\"7\"/> 0\n",
              " \t\t\t\t\t\t\n",
              " \t\t\t\t\t\n",
              " \t\t\t\t</span>\n",
              " </li>, <li class=\"rank07\">\n",
              " <a href=\"/webtoon/detail.nhn?titleId=759457&amp;no=12\" onclick=\"nclk_v2(event,'rnk*p.cont','759457','7')\" title=\"여성전용헬스장 진달래짐-12화: 들어올려라, 중량 추가!\">여성전용헬스장 진달래짐-12화: 들어올려라, 중량 추가!</a>\n",
              " <span class=\"rankBox\">\n",
              " <img alt=\"변동없음\" height=\"10\" src=\"https://ssl.pstatic.net/static/comic/images/migration/common/arrow_no.gif\" title=\"변동없음\" width=\"7\"/> 0\n",
              " \t\t\t\t\t\t\n",
              " \t\t\t\t\t\n",
              " \t\t\t\t</span>\n",
              " </li>, <li class=\"rank08\">\n",
              " <a href=\"/webtoon/detail.nhn?titleId=700844&amp;no=167\" onclick=\"nclk_v2(event,'rnk*p.cont','700844','8')\" title=\"걸어서 30분-167화 그림 모델\">걸어서 30분-167화 그림 모델</a>\n",
              " <span class=\"rankBox\">\n",
              " <img alt=\"변동없음\" height=\"10\" src=\"https://ssl.pstatic.net/static/comic/images/migration/common/arrow_no.gif\" title=\"변동없음\" width=\"7\"/> 0\n",
              " \t\t\t\t\t\t\n",
              " \t\t\t\t\t\n",
              " \t\t\t\t</span>\n",
              " </li>, <li class=\"rank09\">\n",
              " <a href=\"/webtoon/detail.nhn?titleId=761722&amp;no=7\" onclick=\"nclk_v2(event,'rnk*p.cont','761722','9')\" title=\"세기말 풋사과 보습학원-7화\">세기말 풋사과 보습학원-7화</a>\n",
              " <span class=\"rankBox\">\n",
              " <img alt=\"변동없음\" height=\"10\" src=\"https://ssl.pstatic.net/static/comic/images/migration/common/arrow_no.gif\" title=\"변동없음\" width=\"7\"/> 0\n",
              " \t\t\t\t\t\t\n",
              " \t\t\t\t\t\n",
              " \t\t\t\t</span>\n",
              " </li>, <li class=\"rank10\">\n",
              " <a href=\"/webtoon/detail.nhn?titleId=748534&amp;no=33\" onclick=\"nclk_v2(event,'rnk*p.cont','748534','10')\" title=\"구남친이 내게 반했다-33화\">구남친이 내게 반했다-33화</a>\n",
              " <span class=\"rankBox\">\n",
              " <img alt=\"변동없음\" height=\"10\" src=\"https://ssl.pstatic.net/static/comic/images/migration/common/arrow_no.gif\" title=\"변동없음\" width=\"7\"/> 0\n",
              " \t\t\t\t\t\t\n",
              " \t\t\t\t\t\n",
              " \t\t\t\t</span>\n",
              " </li>]"
            ]
          },
          "metadata": {
            "tags": []
          },
          "execution_count": 49
        }
      ]
    },
    {
      "cell_type": "code",
      "metadata": {
        "id": "HxGH1qpcnLrw"
      },
      "source": [
        ""
      ],
      "execution_count": null,
      "outputs": []
    },
    {
      "cell_type": "code",
      "metadata": {
        "id": "6fJZs-V7nAhO"
      },
      "source": [
        ""
      ],
      "execution_count": null,
      "outputs": []
    },
    {
      "cell_type": "code",
      "metadata": {
        "id": "0viZabEumrMF"
      },
      "source": [
        ""
      ],
      "execution_count": null,
      "outputs": []
    }
  ]
}